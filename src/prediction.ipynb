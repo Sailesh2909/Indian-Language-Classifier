{
 "cells": [
  {
   "cell_type": "code",
   "execution_count": 8,
   "id": "963ab5da",
   "metadata": {},
   "outputs": [],
   "source": [
    "import os\n",
    "import numpy as np\n",
    "import librosa\n",
    "import tensorflow as tf"
   ]
  },
  {
   "cell_type": "code",
   "execution_count": 9,
   "id": "4157e54b",
   "metadata": {},
   "outputs": [],
   "source": [
    "def extract_features(file_path, max_pad_len=174):\n",
    "    try:\n",
    "        audio, sample_rate = librosa.load(file_path, res_type='kaiser_fast')\n",
    "        if audio.size == 0:\n",
    "            return None\n",
    "        mfccs = librosa.feature.mfcc(y=audio, sr=sample_rate, n_mfcc=40)\n",
    "        pad_width = max_pad_len - mfccs.shape[1]\n",
    "        if pad_width > 0:\n",
    "            mfccs = np.pad(mfccs, pad_width=((0,0),(0,pad_width)), mode='constant')\n",
    "        else:\n",
    "            mfccs = mfccs[:, :max_pad_len]\n",
    "        return mfccs\n",
    "    except Exception as e:\n",
    "        print(f\"❌ Error with {file_path}: {e}\")\n",
    "        return None"
   ]
  },
  {
   "cell_type": "code",
   "execution_count": 10,
   "id": "44326a97",
   "metadata": {},
   "outputs": [
    {
     "name": "stderr",
     "output_type": "stream",
     "text": [
      "WARNING:absl:Compiled the loaded model, but the compiled metrics have yet to be built. `model.compile_metrics` will be empty until you train or evaluate the model.\n"
     ]
    },
    {
     "name": "stdout",
     "output_type": "stream",
     "text": [
      "✅ Model and classes loaded!\n",
      "Languages: ['Bengali', 'Gujarati', 'Hindi', 'Kannada', 'Malayalam', 'Marathi', 'Punjabi', 'Tamil', 'Telugu', 'Urdu']\n"
     ]
    }
   ],
   "source": [
    "# Path to model and dataset\n",
    "MODEL_PATH = r\"D:\\language classifier\\Indian-Language-Classifier\\language_classifier.h5\"\n",
    "DATA_PATH  = r\"D:\\language classifier\\Indian-Language-Classifier\\data\"\n",
    "\n",
    "# Load the trained model\n",
    "model = tf.keras.models.load_model(MODEL_PATH)\n",
    "\n",
    "# Class labels (from directory names)\n",
    "classes = os.listdir(DATA_PATH)\n",
    "print(\"✅ Model and classes loaded!\")\n",
    "print(\"Languages:\", classes)\n"
   ]
  },
  {
   "cell_type": "code",
   "execution_count": 11,
   "id": "fb40d08b",
   "metadata": {},
   "outputs": [],
   "source": [
    "def predict_language(file_path):\n",
    "    if os.path.exists(file_path):\n",
    "        mfccs = extract_features(file_path)\n",
    "        if mfccs is not None:\n",
    "            mfccs = np.expand_dims(mfccs, axis=(0, -1))  # reshape for model\n",
    "            prediction = np.argmax(model.predict(mfccs), axis=1)[0]\n",
    "            return classes[prediction]\n",
    "        else:\n",
    "            return \"❌ Could not extract features\"\n",
    "    else:\n",
    "        return \"❌ File not found\"\n"
   ]
  },
  {
   "cell_type": "code",
   "execution_count": 97,
   "id": "1f81f2b1",
   "metadata": {},
   "outputs": [
    {
     "name": "stdout",
     "output_type": "stream",
     "text": [
      "\u001b[1m1/1\u001b[0m \u001b[32m━━━━━━━━━━━━━━━━━━━━\u001b[0m\u001b[37m\u001b[0m \u001b[1m0s\u001b[0m 25ms/step\n",
      "🔮 Predicted Language for D:\\language classifier\\Indian-Language-Classifier\\data\\Urdu\\21959.mp3: Urdu\n"
     ]
    }
   ],
   "source": [
    "# Example test file\n",
    "test_file = r\"D:\\language classifier\\Indian-Language-Classifier\\data\\Urdu\\21959.mp3\"\n",
    "\n",
    "predicted_lang = predict_language(test_file)\n",
    "print(f\"🔮 Predicted Language for {test_file}: {predicted_lang}\")\n"
   ]
  }
 ],
 "metadata": {
  "kernelspec": {
   "display_name": "Python 3",
   "language": "python",
   "name": "python3"
  },
  "language_info": {
   "codemirror_mode": {
    "name": "ipython",
    "version": 3
   },
   "file_extension": ".py",
   "mimetype": "text/x-python",
   "name": "python",
   "nbconvert_exporter": "python",
   "pygments_lexer": "ipython3",
   "version": "3.13.1"
  }
 },
 "nbformat": 4,
 "nbformat_minor": 5
}
